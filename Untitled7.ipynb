{
  "nbformat": 4,
  "nbformat_minor": 0,
  "metadata": {
    "colab": {
      "name": "Untitled7.ipynb",
      "provenance": []
    },
    "kernelspec": {
      "name": "python3",
      "display_name": "Python 3"
    },
    "language_info": {
      "name": "python"
    }
  },
  "cells": [
    {
      "cell_type": "code",
      "metadata": {
        "colab": {
          "base_uri": "https://localhost:8080/"
        },
        "id": "xkIESmxDPHMd",
        "outputId": "2b80ee29-b883-4902-e566-93dfd60f6782"
      },
      "source": [
        "a={1,2,3,4,5}\n",
        "b={5,6,7}\n",
        "\n",
        "#print( 2 in a)\n",
        "\n",
        "type(2 in a)\n",
        "\n",
        "a={1,2,3,4,5}\n",
        "b={2,5}\n",
        "\n",
        "b.issubset(a)\n",
        "\n",
        "\n",
        "\n",
        "def is_subset(a,b):\n",
        "  for e in a:\n",
        "\n",
        "    if e in b:\n",
        "\n",
        "      pass \n",
        "\n",
        "    else:\n",
        "      return False \n",
        "\n",
        "  return True \n",
        "\n",
        "a={1,2,3,4,5}\n",
        "b={5,6,7}\n",
        "\n",
        "sub = is_subset(a,b) \n",
        "#or sub = is_subset({1,2,3,4,5},{5,6,7})\n",
        "\n",
        "print(sub)\n",
        "\n",
        "\n",
        "\n"
      ],
      "execution_count": 2,
      "outputs": [
        {
          "output_type": "stream",
          "name": "stdout",
          "text": [
            "False\n"
          ]
        }
      ]
    },
    {
      "cell_type": "code",
      "metadata": {
        "id": "qdYccj-4gJOo"
      },
      "source": [
        ""
      ],
      "execution_count": null,
      "outputs": []
    },
    {
      "cell_type": "code",
      "metadata": {
        "colab": {
          "base_uri": "https://localhost:8080/"
        },
        "id": "h-BVLGHNP1Uh",
        "outputId": "cb425412-a58b-4861-bf4a-822e2c348ed0"
      },
      "source": [
        "import numpy as np\n",
        "\n",
        "uni = set(np.arange(10))\n",
        "\n",
        "A= set(np.arange(0,9,2))\n",
        "\n",
        "B= set(np.arange(0,9,3))\n",
        "\n",
        "print(\"\\nuniversal set:\", uni)\n",
        "print(\"\\nset A:\", A)\n",
        "print(\"\\nset B:\", B)\n",
        "\n",
        "print(\"\\nA U B :\",A.union(B))\n",
        "\n",
        "print(\"\\nA U B :\",A.intersection(B))\n",
        "print(\"\\nA U B :\",A.difference(B))"
      ],
      "execution_count": 3,
      "outputs": [
        {
          "output_type": "stream",
          "name": "stdout",
          "text": [
            "\n",
            "universal set: {0, 1, 2, 3, 4, 5, 6, 7, 8, 9}\n",
            "\n",
            "set A: {0, 2, 4, 6, 8}\n",
            "\n",
            "set B: {0, 3, 6}\n",
            "\n",
            "A U B : {0, 2, 3, 4, 6, 8}\n",
            "\n",
            "A U B : {0, 6}\n",
            "\n",
            "A U B : {8, 2, 4}\n"
          ]
        }
      ]
    },
    {
      "cell_type": "code",
      "metadata": {
        "colab": {
          "base_uri": "https://localhost:8080/"
        },
        "id": "0tmgwZWmRwRb",
        "outputId": "724f8194-2538-4746-8879-1a8eae411ac7"
      },
      "source": [
        "import numpy as np\n",
        "\n",
        "uni = set(np.arange(10))\n",
        "\n",
        "A= set(np.arange(0,9,2))\n",
        "\n",
        "B= set(np.arange(0,9,3))\n",
        "\n",
        "print(\"\\nuniversal set:\", uni)\n",
        "print(\"\\nset A:\", A)\n",
        "print(\"\\nset B:\", B)\n",
        "\n",
        "print(\"\\nA U B :\",A.union(B))\n",
        "\n",
        "print(\"\\nA U B :\",A.intersection(B))\n",
        "\n",
        "print(\"\\nA - B :\",A.difference(B))\n",
        "\n",
        "print(\"\\nA' :\",uni.difference(A))"
      ],
      "execution_count": 4,
      "outputs": [
        {
          "output_type": "stream",
          "name": "stdout",
          "text": [
            "\n",
            "universal set: {0, 1, 2, 3, 4, 5, 6, 7, 8, 9}\n",
            "\n",
            "set A: {0, 2, 4, 6, 8}\n",
            "\n",
            "set B: {0, 3, 6}\n",
            "\n",
            "A U B : {0, 2, 3, 4, 6, 8}\n",
            "\n",
            "A U B : {0, 6}\n",
            "\n",
            "A - B : {8, 2, 4}\n",
            "\n",
            "A' : {1, 3, 5, 7, 9}\n"
          ]
        }
      ]
    },
    {
      "cell_type": "code",
      "metadata": {
        "id": "Yby-0qPnRxta"
      },
      "source": [
        ""
      ],
      "execution_count": null,
      "outputs": []
    }
  ]
}